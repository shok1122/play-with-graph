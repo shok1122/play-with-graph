{
 "cells": [
  {
   "cell_type": "code",
   "execution_count": 84,
   "id": "boolean-treasurer",
   "metadata": {
    "scrolled": true
   },
   "outputs": [
    {
     "name": "stdout",
     "output_type": "stream",
     "text": [
      "Number of Nodes: 67\n",
      "Number of Edges: 104\n"
     ]
    }
   ],
   "source": [
    "import py2cytoscape.cytoscapejs as renderer\n",
    "import random\n",
    "import requests\n",
    "import sys\n",
    "import networkx as nx\n",
    "import pprint\n",
    "\n",
    "from py2cytoscape.data.cyrest_client import CyRestClient\n",
    "\n",
    "#args = sys.argv[1:]\n",
    "\n",
    "seed = 1\n",
    "\n",
    "random.seed(seed)\n",
    "\n",
    "graph_size = 100\n",
    "graph_size_range = graph_size / 2\n",
    "\n",
    "edge_num_limit = 3\n",
    "hub_node_prob = 0.1\n",
    "\n",
    "num_v = random.randrange(graph_size - graph_size_range, graph_size + graph_size_range)\n",
    "\n",
    "g = nx.MultiDiGraph()\n",
    "\n",
    "for i in range(num_v):\n",
    "    i_hub = False\n",
    "    o_hub = False\n",
    "    if random.random() < hub_node_prob:\n",
    "        i_hub = True\n",
    "    if random.random() < hub_node_prob:\n",
    "        o_hub = True\n",
    "    g.add_node(i, i_hub=i_hub, o_hub=o_hub)\n",
    "\n",
    "\n",
    "#\n",
    "# networkx: v1.11\n",
    "#\n",
    "for x in g:\n",
    "    tmp = []\n",
    "    e_min = 0\n",
    "    e_max = edge_num_limit\n",
    "    if g.nodes[x]['o_hub']:\n",
    "        e_min = edge_num_limit * 2\n",
    "        e_max = edge_num_limit * 3\n",
    "    for i in range(random.randrange(e_min, e_max)):\n",
    "        y = random.randrange(0, num_v)\n",
    "        if x != y and y not in tmp:\n",
    "            tmp.append(y)\n",
    "            g.add_edge(x,y)\n",
    "\n",
    "for y in g:\n",
    "    if not g.nodes[y]['i_hub']:\n",
    "        continue\n",
    "    for i in range(edge_num_limit):\n",
    "        x = random.randrange(0, num_v)\n",
    "        if g.has_edge(x,y):\n",
    "            continue\n",
    "        if x == y:\n",
    "            continue\n",
    "        g.add_edge(x,y)\n",
    "\n",
    "for i in g:\n",
    "    n = g.nodes[i]\n",
    "    if n['i_hub'] and n['o_hub']:\n",
    "        n['color'] = 'red'\n",
    "    elif n['i_hub']:\n",
    "        n['color'] = 'blue'\n",
    "    elif n['o_hub']:\n",
    "        n['color'] = 'green'\n",
    "    else:\n",
    "        n['color'] = '#555555'\n",
    "\n",
    "#for x in g:\n",
    "#    if g.nodes[x]['o_hub']:\n",
    "#        for y in x:\n",
    "#            print(dir(x))\n",
    "\n",
    "#print(g[0])\n",
    "\n",
    "for e in g.edges.data():\n",
    "    x = e[0]\n",
    "    y = e[1]\n",
    "    attr = e[2]\n",
    "    if g.nodes[x]['o_hub'] and g.nodes[y]['i_hub']:\n",
    "        attr['color'] = 'red'\n",
    "    elif g.nodes[x]['o_hub']:\n",
    "        attr['color'] = 'green'\n",
    "    elif g.nodes[y]['i_hub']:\n",
    "        attr['color'] = 'blue'\n",
    "    else:\n",
    "        attr['color'] = '#555555'\n",
    "\n",
    "    #e[2]['color'] = 'red'\n",
    "\n",
    "'''\n",
    "for x in range(num_v):\n",
    "    tmp = []\n",
    "    e_min = 0\n",
    "    e_max = edge_num_limit\n",
    "    if g.nodes[x]['o_hub']:\n",
    "        e_min = edge_num_limit * 2\n",
    "        e_max = edge_num_limit * 3\n",
    "    for i in range(random.randrange(e_min, e_max)):\n",
    "        y = random.randrange(0, num_v)\n",
    "        if x != y and y not in tmp:\n",
    "            tmp.append(y)\n",
    "            g.add_edge(x,y)\n",
    "\n",
    "for y in g.nodes_iter():\n",
    "    if not g.node[y]['i_hub']:\n",
    "        continue\n",
    "    for i in range(edge_num_limit):\n",
    "        x = random.randrange(0, num_v)\n",
    "        if y in g.edge[x]:\n",
    "            continue\n",
    "        if x == y:\n",
    "            continue\n",
    "        g.add_edge(x,y)\n",
    "'''\n",
    "\n",
    "print('Number of Nodes: ' + str(g.number_of_nodes()))\n",
    "print('Number of Edges: ' + str(g.number_of_edges()))"
   ]
  },
  {
   "cell_type": "code",
   "execution_count": 54,
   "id": "lucky-chrome",
   "metadata": {},
   "outputs": [
    {
     "name": "stderr",
     "output_type": "stream",
     "text": [
      "/home/kakei/anaconda3/envs/play-with-graph/lib/python3.5/site-packages/networkx/drawing/nx_pylab.py:522: MatplotlibDeprecationWarning: The is_string_like function was deprecated in version 2.1.\n",
      "  if not cb.is_string_like(edge_color) \\\n",
      "/home/kakei/anaconda3/envs/play-with-graph/lib/python3.5/site-packages/networkx/drawing/nx_pylab.py:543: MatplotlibDeprecationWarning: The is_string_like function was deprecated in version 2.1.\n",
      "  if cb.is_string_like(edge_color) or len(edge_color) == 1:\n",
      "/home/kakei/anaconda3/envs/play-with-graph/lib/python3.5/site-packages/networkx/drawing/nx_pylab.py:724: MatplotlibDeprecationWarning: The is_string_like function was deprecated in version 2.1.\n",
      "  if not cb.is_string_like(label):\n"
     ]
    },
    {
     "data": {
      "image/png": "[encoded data removed]",
      "text/plain": [
       "<Figure size 432x288 with 1 Axes>"
      ]
     },
     "metadata": {
      "needs_background": "light"
     },
     "output_type": "display_data"
    }
   ],
   "source": [
    "import matplotlib.pyplot as plt\n",
    "\n",
    "node_color = list()\n",
    "for i in g.nodes_iter():\n",
    "    n = g.node[i]\n",
    "    if n['i_hub'] and n['o_hub']:\n",
    "        node_color.append('red')\n",
    "    elif n['i_hub']:\n",
    "        node_color.append('green')\n",
    "    elif n['o_hub']:\n",
    "        node_color.append('blue')\n",
    "    else:\n",
    "        node_color.append('black')\n",
    "\n",
    "fig = plt.figure()\n",
    "pos = nx.circular_layout(g)\n",
    "\n",
    "nx.draw_networkx(g, pos, node_color=node_color)"
   ]
  },
  {
   "cell_type": "code",
   "execution_count": 85,
   "id": "sharp-diversity",
   "metadata": {},
   "outputs": [
    {
     "data": {
      "text/html": [
       "\n",
       "        <iframe\n",
       "            width=\"100%\"\n",
       "            height=\"700px\"\n",
       "            src=\"graph.html\"\n",
       "            frameborder=\"0\"\n",
       "            allowfullscreen\n",
       "        ></iframe>\n",
       "        "
      ],
      "text/plain": [
       "<IPython.lib.display.IFrame at 0x7f5316b72668>"
      ]
     },
     "execution_count": 85,
     "metadata": {},
     "output_type": "execute_result"
    }
   ],
   "source": [
    "from pyvis.network import Network\n",
    "\n",
    "net = Network(directed=True, notebook=True, height='700px', width = '100%')\n",
    "\n",
    "net.from_nx(g)\n",
    "net.show('graph.html')"
   ]
  },
  {
   "cell_type": "code",
   "execution_count": null,
   "id": "sealed-parks",
   "metadata": {},
   "outputs": [],
   "source": [
    "cy = CyRestClient()\n",
    "nw = cy.network.create(name='My Network', collection='My network collection')\n",
    "\n",
    "g_cy = cy.network.create_from_networkx(g)\n",
    "\n",
    "layout = cy.style.create('Directed')\n",
    "cy.layout.apply(name='cose', network=g_cy)\n",
    "cy.style.apply(layout, network=g_cy)\n",
    "cy.edgebundling.apply(g_cy)"
   ]
  },
  {
   "cell_type": "code",
   "execution_count": 47,
   "id": "expressed-cotton",
   "metadata": {},
   "outputs": [],
   "source": [
    "default_style = cy.style.create('default')\n",
    "\n",
    "new_defaults = {\n",
    "    # Node defaults\n",
    "    'NODE_BORDER_PAINT': '#919191',\n",
    "    'NODE_FILL_COLOR': 'white',\n",
    "    'NODE_SIZE': 25,\n",
    "    'NODE_BORDER_WIDTH': 3,\n",
    "    'NODE_TRANSPARENCY': 255,\n",
    "    'NODE_LABEL_COLOR': '#3399FF',\n",
    "    'NODE_SHAPE': 'Ellipse',\n",
    "    \n",
    "    # Edge defaults\n",
    "    'EDGE_COLOR': '#919191',\n",
    "    'EDGE_WIDTH': 3,\n",
    "    'EDGE_STROKE_UNSELECTED_PAINT': '#919191',\n",
    "    'EDGE_TARGET_ARROW_UNSELECTED_PAINT': '#919191',\n",
    "    'EDGE_LINE_TYPE': 'EQUAL_DASH',\n",
    "    'EDGE_TRANSPARENCY': 255,\n",
    "    'EDGE_TARGET_ARROW_SHAPE': 'ARROW',\n",
    "    \n",
    "    # Network defaults\n",
    "    'NETWORK_BACKGROUND_PAINT': 'white'\n",
    "}\n",
    "\n",
    "default_style.update_defaults(new_defaults)\n",
    "\n",
    "cy.style.apply(default_style, network=g_cy)"
   ]
  },
  {
   "cell_type": "code",
   "execution_count": 6,
   "id": "introductory-sculpture",
   "metadata": {},
   "outputs": [
    {
     "name": "stdout",
     "output_type": "stream",
     "text": [
      "{'data': {'__Annotations': [], 'selected': True, 'shared_name': 'From cyREST', 'name': 'From cyREST', 'SUID': 27066}, 'generated_by': 'cytoscape-3.8.2', 'format_version': '1.0', 'elements': {'edges': [{'selected': False, 'data': {'BEND_MAP_ID': 27120, 'selected': False, 'shared_interaction': '0', 'SUID': 27120, 'interaction': '0', 'source': '27097', 'target_original': '4', 'id': '27120', 'target': '27080', 'source_original': '21'}}, {'selected': False, 'data': {'BEND_MAP_ID': 27119, 'selected': False, 'shared_interaction': '0', 'SUID': 27119, 'interaction': '0', 'source': '27095', 'target_original': '15', 'id': '27119', 'target': '27091', 'source_original': '19'}}, {'selected': False, 'data': {'BEND_MAP_ID': 27118, 'selected': False, 'shared_interaction': '0', 'SUID': 27118, 'interaction': '0', 'source': '27095', 'target_original': '21', 'id': '27118', 'target': '27097', 'source_original': '19'}}, {'selected': False, 'data': {'BEND_MAP_ID': 27117, 'selected': False, 'shared_interaction': '0', 'SUID': 27117, 'interaction': '0', 'source': '27095', 'target_original': '2', 'id': '27117', 'target': '27078', 'source_original': '19'}}, {'selected': False, 'data': {'BEND_MAP_ID': 27116, 'selected': False, 'shared_interaction': '0', 'SUID': 27116, 'interaction': '0', 'source': '27095', 'target_original': '1', 'id': '27116', 'target': '27077', 'source_original': '19'}}, {'selected': False, 'data': {'BEND_MAP_ID': 27115, 'selected': False, 'shared_interaction': '0', 'SUID': 27115, 'interaction': '0', 'source': '27095', 'target_original': '8', 'id': '27115', 'target': '27084', 'source_original': '19'}}, {'selected': False, 'data': {'BEND_MAP_ID': 27114, 'selected': False, 'shared_interaction': '0', 'SUID': 27114, 'interaction': '0', 'source': '27092', 'target_original': '7', 'id': '27114', 'target': '27083', 'source_original': '16'}}, {'selected': False, 'data': {'BEND_MAP_ID': 27113, 'selected': False, 'shared_interaction': '0', 'SUID': 27113, 'interaction': '0', 'source': '27092', 'target_original': '9', 'id': '27113', 'target': '27085', 'source_original': '16'}}, {'selected': False, 'data': {'BEND_MAP_ID': 27112, 'selected': False, 'shared_interaction': '0', 'SUID': 27112, 'interaction': '0', 'source': '27091', 'target_original': '12', 'id': '27112', 'target': '27088', 'source_original': '15'}}, {'selected': False, 'data': {'BEND_MAP_ID': 27111, 'selected': False, 'shared_interaction': '0', 'SUID': 27111, 'interaction': '0', 'source': '27091', 'target_original': '10', 'id': '27111', 'target': '27086', 'source_original': '15'}}, {'selected': False, 'data': {'BEND_MAP_ID': 27110, 'selected': False, 'shared_interaction': '0', 'SUID': 27110, 'interaction': '0', 'source': '27089', 'target_original': '14', 'id': '27110', 'target': '27090', 'source_original': '13'}}, {'selected': False, 'data': {'BEND_MAP_ID': 27109, 'selected': False, 'shared_interaction': '0', 'SUID': 27109, 'interaction': '0', 'source': '27088', 'target_original': '18', 'id': '27109', 'target': '27094', 'source_original': '12'}}, {'selected': False, 'data': {'BEND_MAP_ID': 27108, 'selected': False, 'shared_interaction': '0', 'SUID': 27108, 'interaction': '0', 'source': '27088', 'target_original': '17', 'id': '27108', 'target': '27093', 'source_original': '12'}}, {'selected': False, 'data': {'BEND_MAP_ID': 27107, 'selected': False, 'shared_interaction': '0', 'SUID': 27107, 'interaction': '0', 'source': '27086', 'target_original': '17', 'id': '27107', 'target': '27093', 'source_original': '10'}}, {'selected': False, 'data': {'BEND_MAP_ID': 27106, 'selected': False, 'shared_interaction': '0', 'SUID': 27106, 'interaction': '0', 'source': '27085', 'target_original': '3', 'id': '27106', 'target': '27079', 'source_original': '9'}}, {'selected': False, 'data': {'BEND_MAP_ID': 27105, 'selected': False, 'shared_interaction': '0', 'SUID': 27105, 'interaction': '0', 'source': '27084', 'target_original': '17', 'id': '27105', 'target': '27093', 'source_original': '8'}}, {'selected': False, 'data': {'BEND_MAP_ID': 27104, 'selected': False, 'shared_interaction': '0', 'SUID': 27104, 'interaction': '0', 'source': '27083', 'target_original': '3', 'id': '27104', 'target': '27079', 'source_original': '7'}}, {'selected': False, 'data': {'BEND_MAP_ID': 27103, 'selected': False, 'shared_interaction': '0', 'SUID': 27103, 'interaction': '0', 'source': '27082', 'target_original': '16', 'id': '27103', 'target': '27092', 'source_original': '6'}}, {'selected': False, 'data': {'BEND_MAP_ID': 27102, 'selected': False, 'shared_interaction': '0', 'SUID': 27102, 'interaction': '0', 'source': '27080', 'target_original': '14', 'id': '27102', 'target': '27090', 'source_original': '4'}}, {'selected': False, 'data': {'BEND_MAP_ID': 27101, 'selected': False, 'shared_interaction': '0', 'SUID': 27101, 'interaction': '0', 'source': '27080', 'target_original': '2', 'id': '27101', 'target': '27078', 'source_original': '4'}}, {'selected': False, 'data': {'BEND_MAP_ID': 27100, 'selected': False, 'shared_interaction': '0', 'SUID': 27100, 'interaction': '0', 'source': '27078', 'target_original': '7', 'id': '27100', 'target': '27083', 'source_original': '2'}}, {'selected': False, 'data': {'BEND_MAP_ID': 27099, 'selected': False, 'shared_interaction': '0', 'SUID': 27099, 'interaction': '0', 'source': '27078', 'target_original': '17', 'id': '27099', 'target': '27093', 'source_original': '2'}}, {'selected': False, 'data': {'BEND_MAP_ID': 27098, 'selected': False, 'shared_interaction': '0', 'SUID': 27098, 'interaction': '0', 'source': '27077', 'target_original': '17', 'id': '27098', 'target': '27093', 'source_original': '1'}}], 'nodes': [{'position': {'x': -20.978971505997606, 'y': -206.2063320270537}, 'selected': False, 'data': {'SUID': 27097, 'id': '27097', 'o_hub': False, 'selected': False, 'i_hub': False, 'shared_name': '21', 'name': '21', 'id_original': '21'}}, {'position': {'x': 322.2022348632295, 'y': 164.0890762230282}, 'selected': False, 'data': {'SUID': 27096, 'id': '27096', 'o_hub': False, 'selected': False, 'i_hub': False, 'shared_name': '20', 'name': '20', 'id_original': '20'}}, {'position': {'x': 76.06240113144213, 'y': -128.4261590480395}, 'selected': False, 'data': {'SUID': 27095, 'id': '27095', 'o_hub': True, 'selected': False, 'i_hub': False, 'shared_name': '19', 'name': '19', 'id_original': '19'}}, {'position': {'x': 373.569841621113, 'y': -107.64469219192245}, 'selected': False, 'data': {'SUID': 27094, 'id': '27094', 'o_hub': False, 'selected': False, 'i_hub': False, 'shared_name': '18', 'name': '18', 'id_original': '18'}}, {'position': {'x': 133.73871593445028, 'y': -84.43556370458498}, 'selected': False, 'data': {'SUID': 27093, 'id': '27093', 'o_hub': False, 'selected': False, 'i_hub': True, 'shared_name': '17', 'name': '17', 'id_original': '17'}}, {'position': {'x': -127.52706974013552, 'y': 104.0166426241882}, 'selected': False, 'data': {'SUID': 27092, 'id': '27092', 'o_hub': False, 'selected': False, 'i_hub': False, 'shared_name': '16', 'name': '16', 'id_original': '16'}}, {'position': {'x': 160.07735678885638, 'y': -22.274313753367437}, 'selected': False, 'data': {'SUID': 27091, 'id': '27091', 'o_hub': False, 'selected': False, 'i_hub': False, 'shared_name': '15', 'name': '15', 'id_original': '15'}}, {'position': {'x': -191.14467447305833, 'y': -197.89541785643678}, 'selected': False, 'data': {'SUID': 27090, 'id': '27090', 'o_hub': False, 'selected': False, 'i_hub': False, 'shared_name': '14', 'name': '14', 'id_original': '14'}}, {'position': {'x': -184.3274527285041, 'y': -291.3322484678906}, 'selected': False, 'data': {'SUID': 27089, 'id': '27089', 'o_hub': False, 'selected': False, 'i_hub': False, 'shared_name': '13', 'name': '13', 'id_original': '13'}}, {'position': {'x': 261.69457244136856, 'y': -74.13255251881549}, 'selected': False, 'data': {'SUID': 27088, 'id': '27088', 'o_hub': False, 'selected': False, 'i_hub': False, 'shared_name': '12', 'name': '12', 'id_original': '12'}}, {'position': {'x': -328.10512413484855, 'y': 316.64966466541784}, 'selected': False, 'data': {'SUID': 27087, 'id': '27087', 'o_hub': False, 'selected': False, 'i_hub': False, 'shared_name': '11', 'name': '11', 'id_original': '11'}}, {'position': {'x': 62.751417978397285, 'y': 13.164369343787598}, 'selected': False, 'data': {'SUID': 27086, 'id': '27086', 'o_hub': False, 'selected': False, 'i_hub': False, 'shared_name': '10', 'name': '10', 'id_original': '10'}}, {'position': {'x': -241.39189647340106, 'y': 82.14539927972078}, 'selected': False, 'data': {'SUID': 27085, 'id': '27085', 'o_hub': False, 'selected': False, 'i_hub': False, 'shared_name': '9', 'name': '9', 'id_original': '9'}}, {'position': {'x': 208.63182540916273, 'y': -148.38278292880614}, 'selected': False, 'data': {'SUID': 27084, 'id': '27084', 'o_hub': False, 'selected': False, 'i_hub': False, 'shared_name': '8', 'name': '8', 'id_original': '8'}}, {'position': {'x': -94.69209886412364, 'y': 12.371117421320832}, 'selected': False, 'data': {'SUID': 27083, 'id': '27083', 'o_hub': False, 'selected': False, 'i_hub': False, 'shared_name': '7', 'name': '7', 'id_original': '7'}}, {'position': {'x': -91.87660269523701, 'y': 194.378285771396}, 'selected': False, 'data': {'SUID': 27082, 'id': '27082', 'o_hub': False, 'selected': False, 'i_hub': False, 'shared_name': '6', 'name': '6', 'id_original': '6'}}, {'position': {'x': 251.29993221918244, 'y': 305.94608369916966}, 'selected': False, 'data': {'SUID': 27081, 'id': '27081', 'o_hub': False, 'selected': False, 'i_hub': False, 'shared_name': '5', 'name': '5', 'id_original': '5'}}, {'position': {'x': -90.8907019419513, 'y': -126.71924727659712}, 'selected': False, 'data': {'SUID': 27080, 'id': '27080', 'o_hub': False, 'selected': False, 'i_hub': False, 'shared_name': '4', 'name': '4', 'id_original': '4'}}, {'position': {'x': -208.2374488900299, 'y': -8.307955373708864}, 'selected': False, 'data': {'SUID': 27079, 'id': '27079', 'o_hub': False, 'selected': False, 'i_hub': False, 'shared_name': '3', 'name': '3', 'id_original': '3'}}, {'position': {'x': 11.786048748094345, 'y': -56.4253237406931}, 'selected': False, 'data': {'SUID': 27078, 'id': '27078', 'o_hub': False, 'selected': False, 'i_hub': False, 'shared_name': '2', 'name': '2', 'id_original': '2'}}, {'position': {'x': 130.2835170695007, 'y': -199.04712436384386}, 'selected': False, 'data': {'SUID': 27077, 'id': '27077', 'o_hub': False, 'selected': False, 'i_hub': False, 'shared_name': '1', 'name': '1', 'id_original': '1'}}, {'position': {'x': -412.9258227575101, 'y': 458.4690742237309}, 'selected': False, 'data': {'SUID': 27076, 'id': '27076', 'o_hub': False, 'selected': False, 'i_hub': False, 'shared_name': '0', 'name': '0', 'id_original': '0'}}]}, 'target_cytoscapejs_version': '~2.1'}\n"
     ]
    }
   ],
   "source": [
    "print(view)"
   ]
  },
  {
   "cell_type": "code",
   "execution_count": null,
   "id": "partial-republican",
   "metadata": {},
   "outputs": [],
   "source": []
  }
 ],
 "metadata": {
  "kernelspec": {
   "display_name": "Python 3",
   "language": "python",
   "name": "python3"
  },
  "language_info": {
   "codemirror_mode": {
    "name": "ipython",
    "version": 3
   },
   "file_extension": ".py",
   "mimetype": "text/x-python",
   "name": "python",
   "nbconvert_exporter": "python",
   "pygments_lexer": "ipython3",
   "version": "3.6.3"
  }
 },
 "nbformat": 4,
 "nbformat_minor": 5
}
